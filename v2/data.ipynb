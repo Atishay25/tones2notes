{
 "cells": [
  {
   "cell_type": "code",
   "execution_count": 15,
   "metadata": {},
   "outputs": [
    {
     "name": "stdout",
     "output_type": "stream",
     "text": [
      "74565.35590751865\n"
     ]
    }
   ],
   "source": [
    "import os\n",
    "import logging\n",
    "import h5py\n",
    "import soundfile\n",
    "import librosa\n",
    "import audioread\n",
    "import numpy as np\n",
    "import pandas as pd\n",
    "import csv\n",
    "import datetime\n",
    "import collections\n",
    "import pickle\n",
    "from mido import MidiFile\n",
    "\n",
    "def read_maps_midi(midi_path):\n",
    "    midi_file = MidiFile(midi_path)\n",
    "    ticks_per_beat = midi_file.ticks_per_beat\n",
    "    assert len(midi_file.tracks) == 1\n",
    "\n",
    "    microseconds_per_beat = midi_file.tracks[0][0].tempo\n",
    "    beats_per_second = 1e6 / microseconds_per_beat\n",
    "    ticks_per_second = ticks_per_beat * beats_per_second\n",
    "\n",
    "    message_list = []\n",
    "\n",
    "    ticks = 0\n",
    "    time_in_second = []\n",
    "    print(ticks_per_second)\n",
    "    for message in midi_file.tracks[0]:\n",
    "        message_list.append(str(message))\n",
    "        ticks += message.time\n",
    "        time_in_second.append(ticks / ticks_per_second)\n",
    "    \n",
    "    midi_dict = {\n",
    "        'midi_event': np.array(message_list), \n",
    "        'midi_event_time': np.array(time_in_second)}\n",
    "\n",
    "    return midi_dict\n",
    "\n",
    "df = read_maps_midi('./../data/MAPS/AkPnBcht/MUS/MAPS_MUS-ty_mai_AkPnBcht.mid')"
   ]
  }
 ],
 "metadata": {
  "kernelspec": {
   "display_name": "Python 3",
   "language": "python",
   "name": "python3"
  },
  "language_info": {
   "codemirror_mode": {
    "name": "ipython",
    "version": 3
   },
   "file_extension": ".py",
   "mimetype": "text/x-python",
   "name": "python",
   "nbconvert_exporter": "python",
   "pygments_lexer": "ipython3",
   "version": "3.9.2"
  }
 },
 "nbformat": 4,
 "nbformat_minor": 2
}

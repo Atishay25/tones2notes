{
 "cells": [
  {
   "cell_type": "code",
   "execution_count": 1,
   "metadata": {},
   "outputs": [
    {
     "name": "stdout",
     "output_type": "stream",
     "text": [
      "74565.35590751865\n"
     ]
    }
   ],
   "source": [
    "import os\n",
    "import logging\n",
    "import h5py\n",
    "import soundfile\n",
    "import librosa\n",
    "import audioread\n",
    "import numpy as np\n",
    "import pandas as pd\n",
    "import csv\n",
    "import datetime\n",
    "import collections\n",
    "import pickle\n",
    "from mido import MidiFile\n",
    "\n",
    "def read_maps_midi(midi_path):\n",
    "    midi_file = MidiFile(midi_path)\n",
    "    ticks_per_beat = midi_file.ticks_per_beat\n",
    "    assert len(midi_file.tracks) == 1\n",
    "\n",
    "    microseconds_per_beat = midi_file.tracks[0][0].tempo\n",
    "    beats_per_second = 1e6 / microseconds_per_beat\n",
    "    ticks_per_second = ticks_per_beat * beats_per_second\n",
    "\n",
    "    message_list = []\n",
    "\n",
    "    ticks = 0\n",
    "    time_in_second = []\n",
    "    print(ticks_per_second)\n",
    "    for message in midi_file.tracks[0]:\n",
    "        message_list.append(str(message))\n",
    "        ticks += message.time\n",
    "        time_in_second.append(ticks / ticks_per_second)\n",
    "    \n",
    "    midi_dict = {\n",
    "        'midi_event': np.array(message_list), \n",
    "        'midi_event_time': np.array(time_in_second)}\n",
    "\n",
    "    return midi_dict\n",
    "\n",
    "df = read_maps_midi('./../data/MAPS/AkPnBcht/MUS/MAPS_MUS-ty_mai_AkPnBcht.mid')"
   ]
  },
  {
   "cell_type": "code",
   "execution_count": 6,
   "metadata": {},
   "outputs": [],
   "source": [
    "midi_events = [e for e in df['midi_event'][:]]"
   ]
  },
  {
   "cell_type": "code",
   "execution_count": 8,
   "metadata": {},
   "outputs": [],
   "source": [
    "midi_events_time = df['midi_event_time'][:]"
   ]
  },
  {
   "cell_type": "code",
   "execution_count": 13,
   "metadata": {},
   "outputs": [
    {
     "data": {
      "text/plain": [
       "192.04674645100255"
      ]
     },
     "execution_count": 13,
     "metadata": {},
     "output_type": "execute_result"
    }
   ],
   "source": [
    "df['midi_event_time'][:][-1]"
   ]
  },
  {
   "cell_type": "code",
   "execution_count": 26,
   "metadata": {},
   "outputs": [],
   "source": [
    "pianos_train = ['AkPnBcht','AkPnCGdD','SptkBGCl','AkPnBsdf','AkPnStgb','SptkBGAm','StbgTGd2']\n",
    "workspace = '/users/ug21/atishay/tones2notes/v2'\n",
    "dir = '../data/MAPS'\n",
    "hdf5s_dir = os.path.join(workspace, 'hdf5s', 'maps')\n",
    "count = 0\n",
    "\n",
    "dataset = []\n",
    "for p in pianos_train:\n",
    "    sub_dir = os.path.join(dir, p, 'MUS')\n",
    "    audio_names = [os.path.splitext(name)[0] for name in os.listdir(sub_dir) if os.path.splitext(name)[-1] == '.mid']\n",
    "    for audio_name in audio_names:\n",
    "        dataset.append((sub_dir,audio_name))\n",
    "\n",
    "from sklearn.model_selection import train_test_split\n",
    "\n",
    "audio_train, audio_val = train_test_split(dataset, test_size=0.2, random_state=42)"
   ]
  },
  {
   "cell_type": "code",
   "execution_count": 27,
   "metadata": {},
   "outputs": [
    {
     "name": "stdout",
     "output_type": "stream",
     "text": [
      "42 168\n"
     ]
    }
   ],
   "source": [
    "print(len(audio_val), len(audio_train))"
   ]
  },
  {
   "cell_type": "code",
   "execution_count": 28,
   "metadata": {},
   "outputs": [
    {
     "name": "stdout",
     "output_type": "stream",
     "text": [
      "[('../data/MAPS/SptkBGAm/MUS', 'MAPS_MUS-bor_ps2_SptkBGAm'), ('../data/MAPS/AkPnBsdf/MUS', 'MAPS_MUS-grieg_wanderer_AkPnBsdf'), ('../data/MAPS/StbgTGd2/MUS', 'MAPS_MUS-mz_331_2_StbgTGd2'), ('../data/MAPS/SptkBGCl/MUS', 'MAPS_MUS-grieg_walzer_SptkBGCl'), ('../data/MAPS/SptkBGAm/MUS', 'MAPS_MUS-alb_esp2_SptkBGAm'), ('../data/MAPS/SptkBGCl/MUS', 'MAPS_MUS-burg_perlen_SptkBGCl'), ('../data/MAPS/AkPnBsdf/MUS', 'MAPS_MUS-bk_xmas1_AkPnBsdf'), ('../data/MAPS/AkPnCGdD/MUS', 'MAPS_MUS-liz_et6_AkPnCGdD'), ('../data/MAPS/AkPnBcht/MUS', 'MAPS_MUS-chpn-p1_AkPnBcht'), ('../data/MAPS/StbgTGd2/MUS', 'MAPS_MUS-bk_xmas4_StbgTGd2'), ('../data/MAPS/AkPnBsdf/MUS', 'MAPS_MUS-alb_se4_AkPnBsdf'), ('../data/MAPS/AkPnBcht/MUS', 'MAPS_MUS-grieg_walzer_AkPnBcht'), ('../data/MAPS/AkPnBcht/MUS', 'MAPS_MUS-alb_se3_AkPnBcht'), ('../data/MAPS/AkPnStgb/MUS', 'MAPS_MUS-schub_d960_3_AkPnStgb'), ('../data/MAPS/AkPnStgb/MUS', 'MAPS_MUS-bor_ps5_AkPnStgb'), ('../data/MAPS/SptkBGCl/MUS', 'MAPS_MUS-bach_847_SptkBGCl'), ('../data/MAPS/SptkBGCl/MUS', 'MAPS_MUS-scn15_5_SptkBGCl'), ('../data/MAPS/AkPnBcht/MUS', 'MAPS_MUS-chpn_op25_e2_AkPnBcht'), ('../data/MAPS/AkPnStgb/MUS', 'MAPS_MUS-mond_3_AkPnStgb'), ('../data/MAPS/AkPnCGdD/MUS', 'MAPS_MUS-bor_ps1_AkPnCGdD'), ('../data/MAPS/AkPnBsdf/MUS', 'MAPS_MUS-chpn-p21_AkPnBsdf'), ('../data/MAPS/AkPnStgb/MUS', 'MAPS_MUS-bk_xmas3_AkPnStgb'), ('../data/MAPS/SptkBGCl/MUS', 'MAPS_MUS-waldstein_3_SptkBGCl'), ('../data/MAPS/StbgTGd2/MUS', 'MAPS_MUS-mz_333_3_StbgTGd2'), ('../data/MAPS/StbgTGd2/MUS', 'MAPS_MUS-ty_maerz_StbgTGd2'), ('../data/MAPS/AkPnCGdD/MUS', 'MAPS_MUS-mz_333_2_AkPnCGdD'), ('../data/MAPS/AkPnBcht/MUS', 'MAPS_MUS-muss_5_AkPnBcht'), ('../data/MAPS/AkPnCGdD/MUS', 'MAPS_MUS-mendel_op53_5_AkPnCGdD'), ('../data/MAPS/AkPnBcht/MUS', 'MAPS_MUS-ty_mai_AkPnBcht'), ('../data/MAPS/AkPnCGdD/MUS', 'MAPS_MUS-liz_et_trans5_AkPnCGdD'), ('../data/MAPS/AkPnBsdf/MUS', 'MAPS_MUS-grieg_elfentanz_AkPnBsdf'), ('../data/MAPS/AkPnBsdf/MUS', 'MAPS_MUS-alb_se7_AkPnBsdf'), ('../data/MAPS/AkPnStgb/MUS', 'MAPS_MUS-alb_esp2_AkPnStgb'), ('../data/MAPS/AkPnCGdD/MUS', 'MAPS_MUS-chpn_op10_e12_AkPnCGdD'), ('../data/MAPS/AkPnBsdf/MUS', 'MAPS_MUS-bach_850_AkPnBsdf'), ('../data/MAPS/SptkBGAm/MUS', 'MAPS_MUS-mond_1_SptkBGAm'), ('../data/MAPS/SptkBGCl/MUS', 'MAPS_MUS-liz_et4_SptkBGCl'), ('../data/MAPS/AkPnCGdD/MUS', 'MAPS_MUS-grieg_kobold_AkPnCGdD'), ('../data/MAPS/StbgTGd2/MUS', 'MAPS_MUS-mz_333_2_StbgTGd2'), ('../data/MAPS/SptkBGCl/MUS', 'MAPS_MUS-scn16_4_SptkBGCl'), ('../data/MAPS/AkPnStgb/MUS', 'MAPS_MUS-appass_3_AkPnStgb'), ('../data/MAPS/AkPnBcht/MUS', 'MAPS_MUS-bach_846_AkPnBcht'), ('../data/MAPS/AkPnStgb/MUS', 'MAPS_MUS-ty_januar_AkPnStgb'), ('../data/MAPS/SptkBGAm/MUS', 'MAPS_MUS-ty_september_SptkBGAm'), ('../data/MAPS/AkPnStgb/MUS', 'MAPS_MUS-alb_esp4_AkPnStgb'), ('../data/MAPS/AkPnBcht/MUS', 'MAPS_MUS-schu_143_1_AkPnBcht'), ('../data/MAPS/SptkBGCl/MUS', 'MAPS_MUS-ty_november_SptkBGCl'), ('../data/MAPS/AkPnCGdD/MUS', 'MAPS_MUS-chpn-p14_AkPnCGdD'), ('../data/MAPS/AkPnStgb/MUS', 'MAPS_MUS-mz_333_1_AkPnStgb'), ('../data/MAPS/AkPnBsdf/MUS', 'MAPS_MUS-mond_1_AkPnBsdf'), ('../data/MAPS/AkPnBsdf/MUS', 'MAPS_MUS-mz_332_1_AkPnBsdf'), ('../data/MAPS/SptkBGCl/MUS', 'MAPS_MUS-ty_februar_SptkBGCl'), ('../data/MAPS/AkPnStgb/MUS', 'MAPS_MUS-bach_847_AkPnStgb'), ('../data/MAPS/AkPnCGdD/MUS', 'MAPS_MUS-br_im2_AkPnCGdD'), ('../data/MAPS/AkPnBsdf/MUS', 'MAPS_MUS-ty_dezember_AkPnBsdf'), ('../data/MAPS/SptkBGCl/MUS', 'MAPS_MUS-schub_d960_3_SptkBGCl'), ('../data/MAPS/AkPnBcht/MUS', 'MAPS_MUS-mz_331_2_AkPnBcht'), ('../data/MAPS/AkPnStgb/MUS', 'MAPS_MUS-schumm-3_AkPnStgb'), ('../data/MAPS/AkPnBsdf/MUS', 'MAPS_MUS-liz_et6_AkPnBsdf'), ('../data/MAPS/AkPnCGdD/MUS', 'MAPS_MUS-liz_rhap02_AkPnCGdD'), ('../data/MAPS/AkPnBcht/MUS', 'MAPS_MUS-scn16_2_AkPnBcht'), ('../data/MAPS/StbgTGd2/MUS', 'MAPS_MUS-scn15_12_StbgTGd2'), ('../data/MAPS/SptkBGAm/MUS', 'MAPS_MUS-br_im2_SptkBGAm'), ('../data/MAPS/AkPnBcht/MUS', 'MAPS_MUS-scn15_7_AkPnBcht'), ('../data/MAPS/AkPnBcht/MUS', 'MAPS_MUS-chpn-p4_AkPnBcht'), ('../data/MAPS/SptkBGAm/MUS', 'MAPS_MUS-chpn_op33_4_SptkBGAm'), ('../data/MAPS/StbgTGd2/MUS', 'MAPS_MUS-scn16_3_StbgTGd2'), ('../data/MAPS/AkPnStgb/MUS', 'MAPS_MUS-schuim-3_AkPnStgb'), ('../data/MAPS/AkPnBcht/MUS', 'MAPS_MUS-chpn-p8_AkPnBcht'), ('../data/MAPS/AkPnCGdD/MUS', 'MAPS_MUS-muss_2_AkPnCGdD'), ('../data/MAPS/AkPnBsdf/MUS', 'MAPS_MUS-ty_juni_AkPnBsdf'), ('../data/MAPS/SptkBGAm/MUS', 'MAPS_MUS-burg_quelle_SptkBGAm'), ('../data/MAPS/AkPnStgb/MUS', 'MAPS_MUS-grieg_kobold_AkPnStgb'), ('../data/MAPS/StbgTGd2/MUS', 'MAPS_MUS-liz_et_trans5_StbgTGd2'), ('../data/MAPS/AkPnBsdf/MUS', 'MAPS_MUS-bor_ps6_AkPnBsdf'), ('../data/MAPS/AkPnBcht/MUS', 'MAPS_MUS-chpn_op66_AkPnBcht'), ('../data/MAPS/SptkBGCl/MUS', 'MAPS_MUS-chpn-p7_SptkBGCl'), ('../data/MAPS/AkPnStgb/MUS', 'MAPS_MUS-bk_xmas1_AkPnStgb'), ('../data/MAPS/SptkBGAm/MUS', 'MAPS_MUS-ty_oktober_SptkBGAm'), ('../data/MAPS/SptkBGAm/MUS', 'MAPS_MUS-chpn_op33_2_SptkBGAm'), ('../data/MAPS/AkPnBcht/MUS', 'MAPS_MUS-grieg_zwerge_AkPnBcht'), ('../data/MAPS/StbgTGd2/MUS', 'MAPS_MUS-mz_331_3_StbgTGd2'), ('../data/MAPS/StbgTGd2/MUS', 'MAPS_MUS-deb_clai_StbgTGd2'), ('../data/MAPS/SptkBGCl/MUS', 'MAPS_MUS-scn15_2_SptkBGCl'), ('../data/MAPS/SptkBGAm/MUS', 'MAPS_MUS-scn15_7_SptkBGAm'), ('../data/MAPS/SptkBGCl/MUS', 'MAPS_MUS-alb_esp5_SptkBGCl'), ('../data/MAPS/AkPnCGdD/MUS', 'MAPS_MUS-chpn-p11_AkPnCGdD'), ('../data/MAPS/AkPnStgb/MUS', 'MAPS_MUS-scn15_13_AkPnStgb'), ('../data/MAPS/AkPnCGdD/MUS', 'MAPS_MUS-chpn-p7_AkPnCGdD'), ('../data/MAPS/AkPnStgb/MUS', 'MAPS_MUS-waldstein_1_AkPnStgb'), ('../data/MAPS/AkPnBcht/MUS', 'MAPS_MUS-grieg_waechter_AkPnBcht'), ('../data/MAPS/SptkBGAm/MUS', 'MAPS_MUS-scn16_7_SptkBGAm'), ('../data/MAPS/SptkBGAm/MUS', 'MAPS_MUS-mendel_op62_5_SptkBGAm'), ('../data/MAPS/SptkBGCl/MUS', 'MAPS_MUS-muss_3_SptkBGCl'), ('../data/MAPS/AkPnCGdD/MUS', 'MAPS_MUS-chpn_op10_e01_AkPnCGdD'), ('../data/MAPS/SptkBGAm/MUS', 'MAPS_MUS-liz_et2_SptkBGAm'), ('../data/MAPS/AkPnCGdD/MUS', 'MAPS_MUS-schub_d960_3_AkPnCGdD'), ('../data/MAPS/AkPnBsdf/MUS', 'MAPS_MUS-liz_rhap10_AkPnBsdf'), ('../data/MAPS/SptkBGAm/MUS', 'MAPS_MUS-chpn_op25_e3_SptkBGAm'), ('../data/MAPS/AkPnCGdD/MUS', 'MAPS_MUS-waldstein_2_AkPnCGdD'), ('../data/MAPS/AkPnStgb/MUS', 'MAPS_MUS-chpn-p10_AkPnStgb'), ('../data/MAPS/AkPnBcht/MUS', 'MAPS_MUS-chpn-p13_AkPnBcht'), ('../data/MAPS/AkPnBsdf/MUS', 'MAPS_MUS-muss_4_AkPnBsdf'), ('../data/MAPS/AkPnCGdD/MUS', 'MAPS_MUS-alb_esp3_AkPnCGdD'), ('../data/MAPS/AkPnStgb/MUS', 'MAPS_MUS-liz_et2_AkPnStgb'), ('../data/MAPS/StbgTGd2/MUS', 'MAPS_MUS-bk_xmas1_StbgTGd2'), ('../data/MAPS/SptkBGAm/MUS', 'MAPS_MUS-mond_2_SptkBGAm'), ('../data/MAPS/StbgTGd2/MUS', 'MAPS_MUS-bk_xmas5_StbgTGd2'), ('../data/MAPS/AkPnCGdD/MUS', 'MAPS_MUS-chpn-p13_AkPnCGdD'), ('../data/MAPS/SptkBGCl/MUS', 'MAPS_MUS-mz_330_1_SptkBGCl'), ('../data/MAPS/AkPnCGdD/MUS', 'MAPS_MUS-chpn_op27_1_AkPnCGdD'), ('../data/MAPS/AkPnBcht/MUS', 'MAPS_MUS-gra_esp_4_AkPnBcht'), ('../data/MAPS/AkPnBsdf/MUS', 'MAPS_MUS-ty_juli_AkPnBsdf'), ('../data/MAPS/AkPnBsdf/MUS', 'MAPS_MUS-mz_331_2_AkPnBsdf'), ('../data/MAPS/SptkBGCl/MUS', 'MAPS_MUS-appass_1_SptkBGCl'), ('../data/MAPS/StbgTGd2/MUS', 'MAPS_MUS-grieg_butterfly_StbgTGd2'), ('../data/MAPS/StbgTGd2/MUS', 'MAPS_MUS-schu_143_3_StbgTGd2'), ('../data/MAPS/SptkBGCl/MUS', 'MAPS_MUS-bk_xmas2_SptkBGCl'), ('../data/MAPS/AkPnBcht/MUS', 'MAPS_MUS-bk_xmas5_AkPnBcht'), ('../data/MAPS/AkPnBcht/MUS', 'MAPS_MUS-chpn-p12_AkPnBcht'), ('../data/MAPS/AkPnCGdD/MUS', 'MAPS_MUS-chp_op18_AkPnCGdD'), ('../data/MAPS/StbgTGd2/MUS', 'MAPS_MUS-mz_332_2_StbgTGd2'), ('../data/MAPS/AkPnStgb/MUS', 'MAPS_MUS-chp_op31_AkPnStgb'), ('../data/MAPS/AkPnBcht/MUS', 'MAPS_MUS-chpn-p24_AkPnBcht'), ('../data/MAPS/SptkBGAm/MUS', 'MAPS_MUS-chpn_op10_e05_SptkBGAm'), ('../data/MAPS/SptkBGCl/MUS', 'MAPS_MUS-mond_2_SptkBGCl'), ('../data/MAPS/StbgTGd2/MUS', 'MAPS_MUS-scn16_4_StbgTGd2'), ('../data/MAPS/AkPnStgb/MUS', 'MAPS_MUS-schumm-1_AkPnStgb'), ('../data/MAPS/SptkBGAm/MUS', 'MAPS_MUS-grieg_wanderer_SptkBGAm'), ('../data/MAPS/StbgTGd2/MUS', 'MAPS_MUS-bor_ps6_StbgTGd2'), ('../data/MAPS/SptkBGCl/MUS', 'MAPS_MUS-chpn-p2_SptkBGCl'), ('../data/MAPS/AkPnCGdD/MUS', 'MAPS_MUS-liz_et5_AkPnCGdD'), ('../data/MAPS/AkPnBsdf/MUS', 'MAPS_MUS-br_im5_AkPnBsdf'), ('../data/MAPS/AkPnCGdD/MUS', 'MAPS_MUS-scn16_4_AkPnCGdD'), ('../data/MAPS/SptkBGAm/MUS', 'MAPS_MUS-scn16_5_SptkBGAm'), ('../data/MAPS/StbgTGd2/MUS', 'MAPS_MUS-ty_mai_StbgTGd2'), ('../data/MAPS/SptkBGAm/MUS', 'MAPS_MUS-gra_esp_3_SptkBGAm'), ('../data/MAPS/AkPnCGdD/MUS', 'MAPS_MUS-bk_xmas5_AkPnCGdD'), ('../data/MAPS/AkPnCGdD/MUS', 'MAPS_MUS-chpn-p11-format0_AkPnCGdD'), ('../data/MAPS/SptkBGCl/MUS', 'MAPS_MUS-gra_esp_3_SptkBGCl'), ('../data/MAPS/AkPnBcht/MUS', 'MAPS_MUS-scn15_3_AkPnBcht'), ('../data/MAPS/AkPnCGdD/MUS', 'MAPS_MUS-ty_februar_AkPnCGdD'), ('../data/MAPS/SptkBGAm/MUS', 'MAPS_MUS-ty_mai_SptkBGAm'), ('../data/MAPS/StbgTGd2/MUS', 'MAPS_MUS-schuim-1_StbgTGd2'), ('../data/MAPS/AkPnStgb/MUS', 'MAPS_MUS-gra_esp_2_AkPnStgb'), ('../data/MAPS/AkPnCGdD/MUS', 'MAPS_MUS-chpn-p20_AkPnCGdD'), ('../data/MAPS/SptkBGAm/MUS', 'MAPS_MUS-liz_et1_SptkBGAm'), ('../data/MAPS/StbgTGd2/MUS', 'MAPS_MUS-scn15_11_StbgTGd2'), ('../data/MAPS/AkPnBcht/MUS', 'MAPS_MUS-schub_d760_1_AkPnBcht'), ('../data/MAPS/AkPnCGdD/MUS', 'MAPS_MUS-chpn-p15_AkPnCGdD'), ('../data/MAPS/AkPnStgb/MUS', 'MAPS_MUS-bk_xmas2_AkPnStgb'), ('../data/MAPS/AkPnStgb/MUS', 'MAPS_MUS-liz_et3_AkPnStgb'), ('../data/MAPS/SptkBGAm/MUS', 'MAPS_MUS-chpn-p6_SptkBGAm'), ('../data/MAPS/AkPnBsdf/MUS', 'MAPS_MUS-chpn-p9_AkPnBsdf'), ('../data/MAPS/AkPnBsdf/MUS', 'MAPS_MUS-chpn-p1_AkPnBsdf'), ('../data/MAPS/AkPnBsdf/MUS', 'MAPS_MUS-chpn-p4_AkPnBsdf'), ('../data/MAPS/SptkBGCl/MUS', 'MAPS_MUS-br_im5_SptkBGCl'), ('../data/MAPS/SptkBGCl/MUS', 'MAPS_MUS-chpn_op27_2_SptkBGCl'), ('../data/MAPS/AkPnStgb/MUS', 'MAPS_MUS-chpn_op27_2_AkPnStgb'), ('../data/MAPS/StbgTGd2/MUS', 'MAPS_MUS-alb_se2_StbgTGd2'), ('../data/MAPS/AkPnBcht/MUS', 'MAPS_MUS-hay_40_1_AkPnBcht'), ('../data/MAPS/StbgTGd2/MUS', 'MAPS_MUS-pathetique_1_StbgTGd2'), ('../data/MAPS/SptkBGCl/MUS', 'MAPS_MUS-chpn-p6_SptkBGCl'), ('../data/MAPS/AkPnBsdf/MUS', 'MAPS_MUS-appass_1_AkPnBsdf'), ('../data/MAPS/AkPnBcht/MUS', 'MAPS_MUS-ty_juli_AkPnBcht'), ('../data/MAPS/AkPnBsdf/MUS', 'MAPS_MUS-alb_se3_AkPnBsdf'), ('../data/MAPS/SptkBGAm/MUS', 'MAPS_MUS-chpn-e01_SptkBGAm'), ('../data/MAPS/AkPnBsdf/MUS', 'MAPS_MUS-mz_331_3_AkPnBsdf')]\n"
     ]
    }
   ],
   "source": [
    "print(audio_train)"
   ]
  }
 ],
 "metadata": {
  "kernelspec": {
   "display_name": "Python 3",
   "language": "python",
   "name": "python3"
  },
  "language_info": {
   "codemirror_mode": {
    "name": "ipython",
    "version": 3
   },
   "file_extension": ".py",
   "mimetype": "text/x-python",
   "name": "python",
   "nbconvert_exporter": "python",
   "pygments_lexer": "ipython3",
   "version": "3.9.2"
  }
 },
 "nbformat": 4,
 "nbformat_minor": 2
}
